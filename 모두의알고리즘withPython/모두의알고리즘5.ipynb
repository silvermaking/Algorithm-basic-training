{
 "cells": [
  {
   "cell_type": "markdown",
   "id": "d0b1aa52",
   "metadata": {},
   "source": [
    "# Ch4. 자료구조\n",
    "## 문제13. 회문찾기\n",
    "- https://docs.python.org/ko/3/tutorial/datastructures.html#using-lists-as-queues"
   ]
  },
  {
   "cell_type": "code",
   "execution_count": 2,
   "id": "a0f4bbf4",
   "metadata": {},
   "outputs": [
    {
     "name": "stdout",
     "output_type": "stream",
     "text": [
      "True\n"
     ]
    }
   ],
   "source": [
    "\"\"\"\n",
    "queue 와 stack에서 빼내는 동안 모든 문자가 같으면 : 회문\n",
    "\"\"\"\n",
    "def palindrome(s):\n",
    "    q = []\n",
    "    st = []\n",
    "    \n",
    "    for x in s:\n",
    "        if x.isalpha():\n",
    "            q.append(x.lower())\n",
    "            st.append(x.lower())\n",
    "    while q:\n",
    "        if q.pop(0) != st.pop():\n",
    "            return False\n",
    "    return True\n",
    "\n",
    "print(palindrome(\"Wow\"))"
   ]
  },
  {
   "cell_type": "code",
   "execution_count": null,
   "id": "259bb8ab",
   "metadata": {},
   "outputs": [],
   "source": []
  }
 ],
 "metadata": {
  "kernelspec": {
   "display_name": "Python 3 (ipykernel)",
   "language": "python",
   "name": "python3"
  },
  "language_info": {
   "codemirror_mode": {
    "name": "ipython",
    "version": 3
   },
   "file_extension": ".py",
   "mimetype": "text/x-python",
   "name": "python",
   "nbconvert_exporter": "python",
   "pygments_lexer": "ipython3",
   "version": "3.9.9"
  }
 },
 "nbformat": 4,
 "nbformat_minor": 5
}
