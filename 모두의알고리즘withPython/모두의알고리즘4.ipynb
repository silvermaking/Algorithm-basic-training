{
 "cells": [
  {
   "cell_type": "markdown",
   "id": "bc9d91fe-40b4-40c1-8f9e-ac8d4c0224f3",
   "metadata": {},
   "source": [
    "# Ch3. 탐색과 정렬\n",
    "## 문제8. 선택 정렬\n",
    "- for문 2번: O(n^2)\n",
    "- 쉽게 설명한 선택 정렬"
   ]
  },
  {
   "cell_type": "code",
   "execution_count": 1,
   "id": "d1afd68a-da43-4b17-85ae-a17292c8e053",
   "metadata": {},
   "outputs": [
    {
     "name": "stdout",
     "output_type": "stream",
     "text": [
      "[1, 2, 3, 4, 5]\n"
     ]
    }
   ],
   "source": [
    "def find_min_idx(a):\n",
    "    n = len(a)\n",
    "    min_idx = 0\n",
    "    for i in range(1, n):\n",
    "        if a[i] < a[min_idx]:\n",
    "            min_idx = i\n",
    "    return min_idx\n",
    "\n",
    "\n",
    "def sel_sort(a):\n",
    "    result = []\n",
    "    while a:\n",
    "        min_idx = find_min_idx(a)\n",
    "        val = a.pop(min_idx)\n",
    "        result.append(val)\n",
    "    return result\n",
    "\n",
    "\n",
    "d = [2, 4, 5, 1, 3]\n",
    "print(sel_sort(d))"
   ]
  },
  {
   "cell_type": "markdown",
   "id": "ac585599-1410-4e3d-8681-70d5be6c39c2",
   "metadata": {},
   "source": [
    "- 일반적인 선택 정렬"
   ]
  },
  {
   "cell_type": "code",
   "execution_count": 10,
   "id": "4d111bb2-52d6-4666-8332-1bc594d577c8",
   "metadata": {},
   "outputs": [
    {
     "name": "stdout",
     "output_type": "stream",
     "text": [
      "[1, 2, 3, 4, 5]\n"
     ]
    }
   ],
   "source": [
    "def sel_sort2(a):\n",
    "    n = len(a)\n",
    "    for i in range(0, n-1):\n",
    "        min_idx = i\n",
    "        for j in range(i+1, n):\n",
    "            if a[j] < a[min_idx]:\n",
    "                min_idx = j\n",
    "        a[i], a[min_idx] = a[min_idx], a[i]\n",
    "\n",
    "d = [2, 4, 5, 1, 3]\n",
    "sel_sort2(d)\n",
    "print(d)"
   ]
  },
  {
   "cell_type": "markdown",
   "id": "3898462f-89ed-4323-a20b-efb76d86a4a7",
   "metadata": {},
   "source": [
    "## 문제9. 삽입정렬\n",
    "- 쉽게 설명한 삽입 정렬"
   ]
  },
  {
   "cell_type": "code",
   "execution_count": null,
   "id": "32565036-a913-4847-80d1-400ea9599d1a",
   "metadata": {},
   "outputs": [],
   "source": []
  }
 ],
 "metadata": {
  "kernelspec": {
   "display_name": "Python 3 (ipykernel)",
   "language": "python",
   "name": "python3"
  },
  "language_info": {
   "codemirror_mode": {
    "name": "ipython",
    "version": 3
   },
   "file_extension": ".py",
   "mimetype": "text/x-python",
   "name": "python",
   "nbconvert_exporter": "python",
   "pygments_lexer": "ipython3",
   "version": "3.9.7"
  }
 },
 "nbformat": 4,
 "nbformat_minor": 5
}
