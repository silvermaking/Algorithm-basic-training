{
  "cells": [
    {
      "cell_type": "markdown",
      "id": "bc9d91fe-40b4-40c1-8f9e-ac8d4c0224f3",
      "metadata": {
        "id": "bc9d91fe-40b4-40c1-8f9e-ac8d4c0224f3"
      },
      "source": [
        "# Ch3. 탐색과 정렬\n",
        "## 문제8. 선택 정렬\n",
        "- for문 2번: O(n^2)\n",
        "- 쉽게 설명한 선택 정렬"
      ]
    },
    {
      "cell_type": "code",
      "execution_count": null,
      "id": "d1afd68a-da43-4b17-85ae-a17292c8e053",
      "metadata": {
        "id": "d1afd68a-da43-4b17-85ae-a17292c8e053",
        "outputId": "d4438478-2269-4021-ba91-bd6ae68b969d"
      },
      "outputs": [
        {
          "name": "stdout",
          "output_type": "stream",
          "text": [
            "[1, 2, 3, 4, 5]\n"
          ]
        }
      ],
      "source": [
        "def find_min_idx(a):\n",
        "    n = len(a)\n",
        "    min_idx = 0\n",
        "    for i in range(1, n):\n",
        "        if a[i] < a[min_idx]:\n",
        "            min_idx = i\n",
        "    return min_idx\n",
        "\n",
        "\n",
        "def sel_sort(a):\n",
        "    result = []\n",
        "    while a:\n",
        "        min_idx = find_min_idx(a)\n",
        "        val = a.pop(min_idx)\n",
        "        result.append(val)\n",
        "    return result\n",
        "\n",
        "\n",
        "d = [2, 4, 5, 1, 3]\n",
        "print(sel_sort(d))"
      ]
    },
    {
      "cell_type": "markdown",
      "id": "ac585599-1410-4e3d-8681-70d5be6c39c2",
      "metadata": {
        "id": "ac585599-1410-4e3d-8681-70d5be6c39c2"
      },
      "source": [
        "- 일반적인 선택 정렬"
      ]
    },
    {
      "cell_type": "code",
      "execution_count": null,
      "id": "4d111bb2-52d6-4666-8332-1bc594d577c8",
      "metadata": {
        "id": "4d111bb2-52d6-4666-8332-1bc594d577c8",
        "outputId": "82bceaf4-b25d-49fb-ba72-8844dd60906c"
      },
      "outputs": [
        {
          "name": "stdout",
          "output_type": "stream",
          "text": [
            "[1, 2, 3, 4, 5]\n"
          ]
        }
      ],
      "source": [
        "def sel_sort2(a):\n",
        "    n = len(a)\n",
        "    for i in range(0, n-1):\n",
        "        min_idx = i\n",
        "        for j in range(i+1, n):\n",
        "            if a[j] < a[min_idx]:\n",
        "                min_idx = j\n",
        "        a[i], a[min_idx] = a[min_idx], a[i]\n",
        "\n",
        "d = [2, 4, 5, 1, 3]\n",
        "sel_sort2(d)\n",
        "print(d)"
      ]
    },
    {
      "cell_type": "markdown",
      "id": "3898462f-89ed-4323-a20b-efb76d86a4a7",
      "metadata": {
        "id": "3898462f-89ed-4323-a20b-efb76d86a4a7"
      },
      "source": [
        "## 문제9. 삽입정렬\n",
        "- 이미 정렬된 경우 O(n)\n",
        "- 일반적인 경우: O(n^2)\n",
        "- 쉽게 설명한 삽입 정렬"
      ]
    },
    {
      "cell_type": "code",
      "execution_count": null,
      "id": "32565036-a913-4847-80d1-400ea9599d1a",
      "metadata": {
        "colab": {
          "base_uri": "https://localhost:8080/"
        },
        "id": "32565036-a913-4847-80d1-400ea9599d1a",
        "outputId": "de745021-67b1-481f-c699-cfa2525b1789"
      },
      "outputs": [
        {
          "output_type": "stream",
          "name": "stdout",
          "text": [
            "[4, 5, 1, 3] [2]\n",
            "[5, 1, 3] [2, 4]\n",
            "[1, 3] [2, 4, 5]\n",
            "[3] [1, 2, 4, 5]\n",
            "[] [1, 2, 3, 4, 5]\n",
            "[1, 2, 3, 4, 5]\n"
          ]
        }
      ],
      "source": [
        "def find_ins_idx(r, v):\n",
        "    for i in range(len(r)):\n",
        "        if v < r[i]:\n",
        "            return i\n",
        "    return len(r)\n",
        "\n",
        "\n",
        "def ins_sort(a):\n",
        "    result = []\n",
        "    while a:\n",
        "        val = a.pop(0)\n",
        "        ins_idx = find_ins_idx(result, val)\n",
        "        result.insert(ins_idx, val)\n",
        "        print(a, result)\n",
        "    return result\n",
        "\n",
        "\n",
        "d = [2, 4, 5, 1, 3]\n",
        "print(ins_sort(d))"
      ]
    },
    {
      "cell_type": "markdown",
      "source": [
        "- 일반적인 삽입 정렬"
      ],
      "metadata": {
        "id": "CdOsyvBJieg5"
      },
      "id": "CdOsyvBJieg5"
    },
    {
      "cell_type": "code",
      "source": [
        "def ins_sort(a):\n",
        "    n = len(a)\n",
        "    for i in range(1, n):\n",
        "        key = a[i]\n",
        "        j = i - 1\n",
        "        while j >= 0 and a[j] > key:\n",
        "            a[j + 1] = a[j]\n",
        "            j -= 1\n",
        "        a[j + 1] = key\n",
        "\n",
        "d = [2, 4, 5, 1, 3]\n",
        "ins_sort(d)\n",
        "print(d)"
      ],
      "metadata": {
        "colab": {
          "base_uri": "https://localhost:8080/"
        },
        "id": "lFvjYjITiWX0",
        "outputId": "c39603fe-484f-4e7d-c3cd-62e211736d1f"
      },
      "id": "lFvjYjITiWX0",
      "execution_count": null,
      "outputs": [
        {
          "output_type": "stream",
          "name": "stdout",
          "text": [
            "[1, 2, 3, 4, 5]\n"
          ]
        }
      ]
    },
    {
      "cell_type": "markdown",
      "source": [
        "## 문제10. 병합정렬\n",
        "- O(nlogn)\n",
        "- 재귀"
      ],
      "metadata": {
        "id": "KXZTI2Mdj6EV"
      },
      "id": "KXZTI2Mdj6EV"
    },
    {
      "cell_type": "code",
      "source": [
        "def merge_sort(a):\n",
        "    n = len(a)\n",
        "    if n <= 1:\n",
        "        return\n",
        "\n",
        "    mid = n // 2\n",
        "    g1 = a[:mid]\n",
        "    g2 = a[mid:]\n",
        "    merge_sort(g1)\n",
        "    merge_sort(g2)\n",
        "\n",
        "    i1 = 0\n",
        "    i2 = 0\n",
        "    ia = 0\n",
        "    while i1 < len(g1) and i2 < len(g2):\n",
        "        if g1[i1] < g2[i2]:\n",
        "            a[ia] = g1[i1]\n",
        "            i1 += 1\n",
        "        else:\n",
        "            a[ia] = g2[i2]\n",
        "            i2 += 1\n",
        "        ia += 1\n",
        "    \n",
        "    while i1 < len(g1):\n",
        "        a[ia] = g1[i1]\n",
        "        i1 += 1\n",
        "        ia += 1\n",
        "    while i2 < len(g2):\n",
        "        a[ia] = g2[i2]\n",
        "        i2 += 1\n",
        "        ia += 1\n",
        "\n",
        "d = [6, 8, 3, 9, 10, 1, 2, 4, 7, 5]\n",
        "merge_sort(d)\n",
        "print(d)"
      ],
      "metadata": {
        "colab": {
          "base_uri": "https://localhost:8080/"
        },
        "id": "ZTBJosv8i3lP",
        "outputId": "8cc1856a-d8ca-47fe-c3cf-b3d15d0793c6"
      },
      "id": "ZTBJosv8i3lP",
      "execution_count": null,
      "outputs": [
        {
          "output_type": "stream",
          "name": "stdout",
          "text": [
            "[1, 2, 3, 4, 5, 6, 7, 8, 9, 10]\n"
          ]
        }
      ]
    },
    {
      "cell_type": "markdown",
      "source": [
        "## 문제11. 퀵 정렬\n",
        "- 최적(pivot이 적절할 때)일 때 O(nlongn) \n",
        "- 최악(pivot이 끝 숫자 일 때 등)의 경우 O(n^2)\n",
        "- 좋은 pivot 값을 정하는 알고리즘에 대해 많은 연구 이미 있음\n",
        "    - 일반적으로 O(nlogn)\n"
      ],
      "metadata": {
        "id": "KDZ2hoA3lveY"
      },
      "id": "KDZ2hoA3lveY"
    },
    {
      "cell_type": "code",
      "source": [
        "def q_sort(a, start, end):\n",
        "    if end - start <= 0:\n",
        "        return\n",
        "\n",
        "    pivot = a[end] # 임의로 list의 마지막 값으로 정함\n",
        "    i = start\n",
        "    for j in range(start, end):\n",
        "        if a[j] <= pivot:\n",
        "            a[i], a[j] = a[j], a[i]\n",
        "            i += 1\n",
        "    a[i], a[end] = a[end], a[i]\n",
        "    q_sort(a, start, i-1)\n",
        "    q_sort(a, i+1, end)\n",
        "\n",
        "d = [6, 8, 3, 9, 10, 1, 2, 4, 7, 5]\n",
        "q_sort(d, 0, len(d)-1)\n",
        "print(d)"
      ],
      "metadata": {
        "colab": {
          "base_uri": "https://localhost:8080/"
        },
        "id": "lO_nkD8Ok-tr",
        "outputId": "f274319f-9d8a-41d0-d958-cd7539ca2285"
      },
      "id": "lO_nkD8Ok-tr",
      "execution_count": null,
      "outputs": [
        {
          "output_type": "stream",
          "name": "stdout",
          "text": [
            "[1, 2, 3, 4, 5, 6, 7, 8, 9, 10]\n"
          ]
        }
      ]
    },
    {
      "cell_type": "markdown",
      "source": [
        "### 파이썬 sort\n",
        "- Timsort\n",
        "    - [참고자료](https://orchistro.tistory.com/175)\n",
        "    - 병합정렬과 삽입정렬의 아이디어를 섞고 최적화\n",
        "    - O(nlogn)"
      ],
      "metadata": {
        "id": "dwHU8uKxq3ml"
      },
      "id": "dwHU8uKxq3ml"
    },
    {
      "cell_type": "code",
      "source": [
        "d = [6, 8, 3, 9, 10, 1, 2, 4, 7, 5]\n",
        "d.sort()\n",
        "print(d)"
      ],
      "metadata": {
        "colab": {
          "base_uri": "https://localhost:8080/"
        },
        "id": "z1rxQNCSotV5",
        "outputId": "4d292941-82f2-4089-c78f-cb841b62bba8"
      },
      "id": "z1rxQNCSotV5",
      "execution_count": null,
      "outputs": [
        {
          "output_type": "stream",
          "name": "stdout",
          "text": [
            "[1, 2, 3, 4, 5, 6, 7, 8, 9, 10]\n"
          ]
        }
      ]
    },
    {
      "cell_type": "markdown",
      "source": [
        "## 문제12. 이분탐색\n",
        "- o(logn)"
      ],
      "metadata": {
        "id": "MLiquuf1s6fc"
      },
      "id": "MLiquuf1s6fc"
    },
    {
      "cell_type": "code",
      "source": [
        "def binary_search(lst, x):\n",
        "    start = 0\n",
        "    end = len(lst) - 1\n",
        "\n",
        "    while start <= end:\n",
        "        mid = (start + end) // 2\n",
        "        if x == lst[mid]: return mid\n",
        "        elif x > lst[mid]:\n",
        "            start = mid + 1\n",
        "        else:\n",
        "            end = mid - 1\n",
        "    return -1\n",
        "\n",
        "d = [1, 4, 9, 16, 25, 36, 49, 64, 81]\n",
        "print(binary_search(d, 64))\n",
        "print(binary_search(d, 55))"
      ],
      "metadata": {
        "colab": {
          "base_uri": "https://localhost:8080/"
        },
        "id": "QG-vYx8xrKb5",
        "outputId": "26c4b217-1deb-4811-dea8-ee0346bbb071"
      },
      "id": "QG-vYx8xrKb5",
      "execution_count": null,
      "outputs": [
        {
          "output_type": "stream",
          "name": "stdout",
          "text": [
            "7\n",
            "-1\n"
          ]
        }
      ]
    },
    {
      "cell_type": "code",
      "source": [
        ""
      ],
      "metadata": {
        "id": "qi-3WQLbujuh"
      },
      "id": "qi-3WQLbujuh",
      "execution_count": null,
      "outputs": []
    }
  ],
  "metadata": {
    "kernelspec": {
      "display_name": "Python 3 (ipykernel)",
      "language": "python",
      "name": "python3"
    },
    "language_info": {
      "codemirror_mode": {
        "name": "ipython",
        "version": 3
      },
      "file_extension": ".py",
      "mimetype": "text/x-python",
      "name": "python",
      "nbconvert_exporter": "python",
      "pygments_lexer": "ipython3",
      "version": "3.9.7"
    },
    "colab": {
      "name": "모두의알고리즘4.ipynb",
      "provenance": [],
      "collapsed_sections": []
    }
  },
  "nbformat": 4,
  "nbformat_minor": 5
}