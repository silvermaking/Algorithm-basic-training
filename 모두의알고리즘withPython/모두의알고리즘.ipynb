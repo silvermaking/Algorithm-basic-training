{
  "nbformat": 4,
  "nbformat_minor": 0,
  "metadata": {
    "colab": {
      "name": "모두의알고리즘.ipynb",
      "provenance": [],
      "collapsed_sections": []
    },
    "kernelspec": {
      "name": "python3",
      "display_name": "Python 3"
    },
    "language_info": {
      "name": "python"
    }
  },
  "cells": [
    {
      "cell_type": "markdown",
      "source": [
        "# Ch0. 들어가는 글\n",
        "## 1.알고리즘\n",
        "- 어떤 문제를 풀기 위한 절차나 방법\n",
        "\n",
        "## 2. 알고리즘 분석\n",
        "- 문제를 푸는 여러가지 방법, 즉 여러가지 알고리즘이 있음\n",
        "- 어떤 알고리즘이 어떤 특징을 지니고 있으며, 얼마나 계산이 빠르고 편한지 등을 알아야함\n",
        "\n",
        "## 3. 파이썬"
      ],
      "metadata": {
        "id": "W_v2hONcUW00"
      }
    },
    {
      "cell_type": "code",
      "execution_count": null,
      "metadata": {
        "id": "p4qJ8NyWUAdf"
      },
      "outputs": [],
      "source": [
        "import math  # 수학 모듈 "
      ]
    },
    {
      "cell_type": "code",
      "source": [
        "\"\"\"\n",
        "절대값 알고리즘 1 (부호 판단)\n",
        "입력: 실수 a\n",
        "출력: a의 절댓값\n",
        "\"\"\"\n",
        "\n",
        "def abs_sign(a):\n",
        "    if a >= 0:\n",
        "        return a\n",
        "    else:\n",
        "        return -a"
      ],
      "metadata": {
        "id": "MP8n_NIzVhDh"
      },
      "execution_count": null,
      "outputs": []
    },
    {
      "cell_type": "code",
      "source": [
        "\"\"\"\n",
        "절대값 알고리즘 2 (제곱근)\n",
        "입력: 실수 a\n",
        "출력: a의 절댓값\n",
        "\"\"\"\n",
        "\n",
        "def abs_square(a):\n",
        "    b = a ** 2\n",
        "    return math.sqrt(b) "
      ],
      "metadata": {
        "id": "rgdZMvohVvXF"
      },
      "execution_count": null,
      "outputs": []
    },
    {
      "cell_type": "code",
      "source": [
        "print(abs_sign(5))\n",
        "print(abs_square(5))"
      ],
      "metadata": {
        "colab": {
          "base_uri": "https://localhost:8080/"
        },
        "id": "qpr5SD_0V6iF",
        "outputId": "7acc3321-a0c3-4e97-d892-b47790fa5b31"
      },
      "execution_count": null,
      "outputs": [
        {
          "output_type": "stream",
          "name": "stdout",
          "text": [
            "5\n",
            "5.0\n"
          ]
        }
      ]
    },
    {
      "cell_type": "markdown",
      "source": [
        "---"
      ],
      "metadata": {
        "id": "tXvPfVhhWFn5"
      }
    },
    {
      "cell_type": "markdown",
      "source": [
        "# 첫째 마당: 알고리즘 기초\n",
        "## 문제 01. 1부터 n까지의 합 구하기\n"
      ],
      "metadata": {
        "id": "1TgGmlgOWJF-"
      }
    },
    {
      "cell_type": "code",
      "source": [
        "def sum_n(n):\n",
        "    s = 0\n",
        "    for i in range(1, n+1):\n",
        "        s = s + i\n",
        "    return s\n",
        "\n",
        "print(sum_n(10))\n",
        "print(sum_n(100))"
      ],
      "metadata": {
        "colab": {
          "base_uri": "https://localhost:8080/"
        },
        "id": "H4PGh1hvV9vF",
        "outputId": "e6b335cd-978a-460c-efc8-e5b27bb7e7d4"
      },
      "execution_count": null,
      "outputs": [
        {
          "output_type": "stream",
          "name": "stdout",
          "text": [
            "55\n",
            "5050\n"
          ]
        }
      ]
    },
    {
      "cell_type": "code",
      "source": [
        "def sum_n2(n):\n",
        "    return n * (n + 1) // 2\n",
        "\n",
        "print(sum_n2(10))\n",
        "print(sum_n2(100))"
      ],
      "metadata": {
        "colab": {
          "base_uri": "https://localhost:8080/"
        },
        "id": "ezuvhfNoWzeX",
        "outputId": "a59c87f3-8fe0-478d-fd96-613640fd91dd"
      },
      "execution_count": null,
      "outputs": [
        {
          "output_type": "stream",
          "name": "stdout",
          "text": [
            "55\n",
            "5050\n"
          ]
        }
      ]
    },
    {
      "cell_type": "markdown",
      "source": [
        "### 계산 복잡도\n",
        "- 계산이 얼마나 복잡한지 나타낸 정도\n",
        "- 빅 오 표기법을 많이 사용\n",
        "    - 입력 크기와의 관계로 표현\n",
        "    - ex) O(2n) -> O(n)\n",
        "\n",
        "\n",
        "- 위의 첫 번째 방법은 O(n)\n",
        "    - 필요한 계산 횟수가 입력 크기 n과 **비례**할 때\n",
        "- 두 번째 방법은 O(1)\n",
        "    - 필요한 계산 횟수가 입력 크기 n과 **무관**할 때 "
      ],
      "metadata": {
        "id": "j_44pKLAXSO1"
      }
    },
    {
      "cell_type": "markdown",
      "source": [
        "### 연습문제\n"
      ],
      "metadata": {
        "id": "6PKsE1OYYTGR"
      }
    },
    {
      "cell_type": "code",
      "source": [
        "# 1-1 \n",
        "\n",
        "def sum_square(n):\n",
        "    s = 0\n",
        "    for i in range(1, n+1):\n",
        "        s += i ** 2\n",
        "    return s \n",
        "\n",
        "print(sum_square(10))"
      ],
      "metadata": {
        "colab": {
          "base_uri": "https://localhost:8080/"
        },
        "id": "dFRMQ1ZkXDyV",
        "outputId": "75caf50a-c905-4167-fe20-6a6e8eaae60b"
      },
      "execution_count": null,
      "outputs": [
        {
          "output_type": "stream",
          "name": "stdout",
          "text": [
            "385\n"
          ]
        }
      ]
    },
    {
      "cell_type": "markdown",
      "source": [
        "1-2: 위의 알고리즘의 시간복잡도: O(n)"
      ],
      "metadata": {
        "id": "8QYmUGdPYwQt"
      }
    },
    {
      "cell_type": "code",
      "source": [
        "# 1-3\n",
        "\n",
        "def sum_square2(n):\n",
        "    return (n * (n+1) * (2*n + 1) // 6)\n",
        "\n",
        "print(sum_square2(10))\n",
        "\n",
        "# 시간복잡도: O(1)"
      ],
      "metadata": {
        "colab": {
          "base_uri": "https://localhost:8080/"
        },
        "id": "hJQMpgxeYt6-",
        "outputId": "e71f31ad-fd34-450c-f92f-b45112d02867"
      },
      "execution_count": null,
      "outputs": [
        {
          "output_type": "stream",
          "name": "stdout",
          "text": [
            "385\n"
          ]
        }
      ]
    },
    {
      "cell_type": "markdown",
      "source": [
        "## 문제 02. 최댓값 찾기\n"
      ],
      "metadata": {
        "id": "gr365YH-ZIgh"
      }
    },
    {
      "cell_type": "code",
      "source": [
        "\"\"\"\n",
        "lst 내의 첫번째 숫자를 최댓값으로 설정\n",
        "다음 숫자와 비교, 크면 새로운 숫자가 최댓값\n",
        "반복\n",
        "\"\"\"\n",
        "\n",
        "def find_max(lst):\n",
        "    n = len(lst)\n",
        "    max_v = lst[0]\n",
        "    for i in range(1, n):\n",
        "        if lst[i] > max_v:\n",
        "            max_v = lst[i]\n",
        "    return max_v \n",
        "\n",
        "lst = [18, 92, 19, 33, 58, 7, 33, 42]\n",
        "print(find_max(lst))\n",
        "        "
      ],
      "metadata": {
        "colab": {
          "base_uri": "https://localhost:8080/"
        },
        "id": "LNidB06bZEsj",
        "outputId": "6b186563-cee2-470c-eb31-df52d2a04842"
      },
      "execution_count": null,
      "outputs": [
        {
          "output_type": "stream",
          "name": "stdout",
          "text": [
            "92\n"
          ]
        }
      ]
    },
    {
      "cell_type": "markdown",
      "source": [
        "- for 문 동안 비교를 한다. (n-1 번)\n",
        "- O(n)"
      ],
      "metadata": {
        "id": "t0bKs76fZ9v0"
      }
    },
    {
      "cell_type": "code",
      "source": [
        "\"\"\"\n",
        "최댓값의 위치 알려주는 알고리즘\n",
        "\"\"\"\n",
        "\n",
        "def find_max_idx(lst):\n",
        "    n = len(lst)\n",
        "    max_idx = 0\n",
        "    for i in range(1, n):\n",
        "        if lst[i] > lst[max_idx]:\n",
        "            max_idx = i\n",
        "    return max_idx\n",
        "\n",
        "print(find_max_idx(lst))"
      ],
      "metadata": {
        "colab": {
          "base_uri": "https://localhost:8080/"
        },
        "id": "i2cPCK5aZ1f_",
        "outputId": "5d89c7e2-863c-46f7-e693-bdc53783d442"
      },
      "execution_count": null,
      "outputs": [
        {
          "output_type": "stream",
          "name": "stdout",
          "text": [
            "1\n"
          ]
        }
      ]
    },
    {
      "cell_type": "markdown",
      "source": [
        "### 연습문제"
      ],
      "metadata": {
        "id": "ErX3-FS6acH1"
      }
    },
    {
      "cell_type": "code",
      "source": [
        "# 2-1\n",
        "\n",
        "def find_min(lst):\n",
        "    n = len(lst)\n",
        "    min_v = lst[0]\n",
        "    for i in range(1, n):\n",
        "        if lst[i] < min_v:\n",
        "            min_v = lst[i]\n",
        "    return min_v\n",
        "\n",
        "print(find_min(lst))"
      ],
      "metadata": {
        "colab": {
          "base_uri": "https://localhost:8080/"
        },
        "id": "2qu8HEB5aYCx",
        "outputId": "e50408f7-d885-40cd-ab25-762cb7376904"
      },
      "execution_count": null,
      "outputs": [
        {
          "output_type": "stream",
          "name": "stdout",
          "text": [
            "7\n"
          ]
        }
      ]
    },
    {
      "cell_type": "markdown",
      "source": [
        "## 문제03. 동명이인 찾기 1\n",
        "\n",
        "### 집합, set\n",
        "- 같은 자료가 중복되어 들어가지 않음\n",
        "- 자료의 순서도 의미가 없음, non sequence\n",
        "- `.discard()` : 자료 있다면 삭제, 없어도 에러 x\n"
      ],
      "metadata": {
        "id": "CST06okGa1x-"
      }
    },
    {
      "cell_type": "code",
      "source": [
        "{1, 2} == {2, 1}"
      ],
      "metadata": {
        "colab": {
          "base_uri": "https://localhost:8080/"
        },
        "id": "lRl0CaEMaz3X",
        "outputId": "0ab8e5d1-68dc-4e04-fb16-ea7c54ccb7ad"
      },
      "execution_count": null,
      "outputs": [
        {
          "output_type": "execute_result",
          "data": {
            "text/plain": [
              "True"
            ]
          },
          "metadata": {},
          "execution_count": 12
        }
      ]
    },
    {
      "cell_type": "code",
      "source": [
        "\"\"\"\n",
        "첫 번째 이름은 2~ n 까지 비교\n",
        "x 번쨰 이름은 x+1 ~ n 까지 비교\n",
        "\"\"\"\n",
        "\n",
        "def find_same_name(a):\n",
        "    n = len(a)\n",
        "    result = set()\n",
        "    for i in range(0, n-1):\n",
        "        for j in range(i+1, n):\n",
        "            if a[i] == a[j]:\n",
        "                result.add(a[i])\n",
        "    return result\n",
        "\n",
        "name = [\"Tom\", \"Jerry\", \"Mike\", \"Tom\"]\n",
        "print(find_same_name(name))"
      ],
      "metadata": {
        "colab": {
          "base_uri": "https://localhost:8080/"
        },
        "id": "5LRVZ3Hjb014",
        "outputId": "568f0b75-dc1f-4203-d61a-48b731bb50f4"
      },
      "execution_count": null,
      "outputs": [
        {
          "output_type": "stream",
          "name": "stdout",
          "text": [
            "{'Tom'}\n"
          ]
        }
      ]
    },
    {
      "cell_type": "markdown",
      "source": [
        "- 0 + 1 + ... + (n-1)번 \n",
        "- O(n^2)"
      ],
      "metadata": {
        "id": "y6x_dHq4cvqk"
      }
    },
    {
      "cell_type": "markdown",
      "source": [
        "### 연습문제"
      ],
      "metadata": {
        "id": "bHLzicWCc5_U"
      }
    },
    {
      "cell_type": "code",
      "source": [
        "# 3-1\n",
        "\n",
        "def make_couple(a):\n",
        "    n = len(a)\n",
        "    for i in range(n-1):\n",
        "        for j in range(i+1, n):\n",
        "            if a[i] != a[j]:\n",
        "                print(f'{a[i]} - {a[j]}')\n",
        "\n",
        "a = [\"Tom\", \"Jerry\", \"Mike\"]\n",
        "make_couple(a)"
      ],
      "metadata": {
        "colab": {
          "base_uri": "https://localhost:8080/"
        },
        "id": "BagxdvTqcGIN",
        "outputId": "9b3c479c-330c-44c3-b9c7-1809dd739d8a"
      },
      "execution_count": null,
      "outputs": [
        {
          "output_type": "stream",
          "name": "stdout",
          "text": [
            "Tom - Jerry\n",
            "Tom - Mike\n",
            "Jerry - Mike\n"
          ]
        }
      ]
    },
    {
      "cell_type": "markdown",
      "source": [
        "3-2 \n",
        "- 65536 : O(1)\n",
        "- n-1 : O(n)\n",
        "- O(n^2)\n",
        "- O(n^4)"
      ],
      "metadata": {
        "id": "0IQI1n9jdjNQ"
      }
    },
    {
      "cell_type": "code",
      "source": [
        ""
      ],
      "metadata": {
        "id": "2tvalfVFdczY"
      },
      "execution_count": null,
      "outputs": []
    }
  ]
}